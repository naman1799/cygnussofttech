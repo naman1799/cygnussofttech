{
  "nbformat": 4,
  "nbformat_minor": 0,
  "metadata": {
    "colab": {
      "name": "Practice.ipynb",
      "provenance": []
    },
    "kernelspec": {
      "name": "python3",
      "display_name": "Python 3"
    }
  },
  "cells": [
    {
      "cell_type": "code",
      "metadata": {
        "id": "JDxAXkZ_snQG"
      },
      "source": [
        "from sklearn.model_selection import train_test_split\r\n",
        "from sklearn.linear_model import LinearRegression\r\n",
        "from sklearn import metrics\r\n",
        "import math\r\n"
      ],
      "execution_count": 17,
      "outputs": []
    },
    {
      "cell_type": "code",
      "metadata": {
        "id": "7zKRw8O2tIZM"
      },
      "source": [
        "import pandas as pd\r\n",
        "import matplotlib.pyplot as plt\r\n"
      ],
      "execution_count": 2,
      "outputs": []
    },
    {
      "cell_type": "code",
      "metadata": {
        "colab": {
          "base_uri": "https://localhost:8080/",
          "height": 278
        },
        "id": "n6ZfZG8gtSww",
        "outputId": "03166003-93af-4b88-d893-7275c2ec776f"
      },
      "source": [
        "dataset = pd.read_csv('tesla.csv')\r\n",
        "dataset.describe()\r\n"
      ],
      "execution_count": 5,
      "outputs": [
        {
          "output_type": "execute_result",
          "data": {
            "text/html": [
              "<div>\n",
              "<style scoped>\n",
              "    .dataframe tbody tr th:only-of-type {\n",
              "        vertical-align: middle;\n",
              "    }\n",
              "\n",
              "    .dataframe tbody tr th {\n",
              "        vertical-align: top;\n",
              "    }\n",
              "\n",
              "    .dataframe thead th {\n",
              "        text-align: right;\n",
              "    }\n",
              "</style>\n",
              "<table border=\"1\" class=\"dataframe\">\n",
              "  <thead>\n",
              "    <tr style=\"text-align: right;\">\n",
              "      <th></th>\n",
              "      <th>Open</th>\n",
              "      <th>High</th>\n",
              "      <th>Low</th>\n",
              "      <th>Close</th>\n",
              "      <th>Volume</th>\n",
              "      <th>Adj Close</th>\n",
              "    </tr>\n",
              "  </thead>\n",
              "  <tbody>\n",
              "    <tr>\n",
              "      <th>count</th>\n",
              "      <td>1692.000000</td>\n",
              "      <td>1692.000000</td>\n",
              "      <td>1692.000000</td>\n",
              "      <td>1692.000000</td>\n",
              "      <td>1.692000e+03</td>\n",
              "      <td>1692.000000</td>\n",
              "    </tr>\n",
              "    <tr>\n",
              "      <th>mean</th>\n",
              "      <td>132.441572</td>\n",
              "      <td>134.769698</td>\n",
              "      <td>129.996223</td>\n",
              "      <td>132.428658</td>\n",
              "      <td>4.270741e+06</td>\n",
              "      <td>132.428658</td>\n",
              "    </tr>\n",
              "    <tr>\n",
              "      <th>std</th>\n",
              "      <td>94.309923</td>\n",
              "      <td>95.694914</td>\n",
              "      <td>92.855227</td>\n",
              "      <td>94.313187</td>\n",
              "      <td>4.295971e+06</td>\n",
              "      <td>94.313187</td>\n",
              "    </tr>\n",
              "    <tr>\n",
              "      <th>min</th>\n",
              "      <td>16.139999</td>\n",
              "      <td>16.629999</td>\n",
              "      <td>14.980000</td>\n",
              "      <td>15.800000</td>\n",
              "      <td>1.185000e+05</td>\n",
              "      <td>15.800000</td>\n",
              "    </tr>\n",
              "    <tr>\n",
              "      <th>25%</th>\n",
              "      <td>30.000000</td>\n",
              "      <td>30.650000</td>\n",
              "      <td>29.214999</td>\n",
              "      <td>29.884999</td>\n",
              "      <td>1.194350e+06</td>\n",
              "      <td>29.884999</td>\n",
              "    </tr>\n",
              "    <tr>\n",
              "      <th>50%</th>\n",
              "      <td>156.334999</td>\n",
              "      <td>162.370002</td>\n",
              "      <td>153.150002</td>\n",
              "      <td>158.160004</td>\n",
              "      <td>3.180700e+06</td>\n",
              "      <td>158.160004</td>\n",
              "    </tr>\n",
              "    <tr>\n",
              "      <th>75%</th>\n",
              "      <td>220.557495</td>\n",
              "      <td>224.099999</td>\n",
              "      <td>217.119999</td>\n",
              "      <td>220.022503</td>\n",
              "      <td>5.662100e+06</td>\n",
              "      <td>220.022503</td>\n",
              "    </tr>\n",
              "    <tr>\n",
              "      <th>max</th>\n",
              "      <td>287.670013</td>\n",
              "      <td>291.420013</td>\n",
              "      <td>280.399994</td>\n",
              "      <td>286.040009</td>\n",
              "      <td>3.716390e+07</td>\n",
              "      <td>286.040009</td>\n",
              "    </tr>\n",
              "  </tbody>\n",
              "</table>\n",
              "</div>"
            ],
            "text/plain": [
              "              Open         High  ...        Volume    Adj Close\n",
              "count  1692.000000  1692.000000  ...  1.692000e+03  1692.000000\n",
              "mean    132.441572   134.769698  ...  4.270741e+06   132.428658\n",
              "std      94.309923    95.694914  ...  4.295971e+06    94.313187\n",
              "min      16.139999    16.629999  ...  1.185000e+05    15.800000\n",
              "25%      30.000000    30.650000  ...  1.194350e+06    29.884999\n",
              "50%     156.334999   162.370002  ...  3.180700e+06   158.160004\n",
              "75%     220.557495   224.099999  ...  5.662100e+06   220.022503\n",
              "max     287.670013   291.420013  ...  3.716390e+07   286.040009\n",
              "\n",
              "[8 rows x 6 columns]"
            ]
          },
          "metadata": {
            "tags": []
          },
          "execution_count": 5
        }
      ]
    },
    {
      "cell_type": "code",
      "metadata": {
        "id": "ZFdQ1ygCtv3a"
      },
      "source": [
        "x = dataset[['High', 'Low', 'Open', 'Volume']].values\r\n",
        "y = dataset[['Close']].values"
      ],
      "execution_count": 6,
      "outputs": []
    },
    {
      "cell_type": "code",
      "metadata": {
        "id": "B0o5LM86uOky"
      },
      "source": [
        "x_train, x_test, y_train, y_test = train_test_split(x,y,test_size=0.2,random_state=0)"
      ],
      "execution_count": 7,
      "outputs": []
    },
    {
      "cell_type": "code",
      "metadata": {
        "id": "1XVmakOmuo_G"
      },
      "source": [
        "regression = LinearRegression()"
      ],
      "execution_count": 8,
      "outputs": []
    },
    {
      "cell_type": "code",
      "metadata": {
        "colab": {
          "base_uri": "https://localhost:8080/"
        },
        "id": "kKpqfIJfuvnL",
        "outputId": "1f744587-b321-4dad-f1d2-c40c6ef5e9fc"
      },
      "source": [
        "regression.fit(x_train,y_train)"
      ],
      "execution_count": 10,
      "outputs": [
        {
          "output_type": "execute_result",
          "data": {
            "text/plain": [
              "LinearRegression(copy_X=True, fit_intercept=True, n_jobs=None, normalize=False)"
            ]
          },
          "metadata": {
            "tags": []
          },
          "execution_count": 10
        }
      ]
    },
    {
      "cell_type": "code",
      "metadata": {
        "colab": {
          "base_uri": "https://localhost:8080/"
        },
        "id": "YER2Fpx6u9oY",
        "outputId": "a3c82df2-0c29-4523-85f6-42dfb2cb3244"
      },
      "source": [
        "print(regression.coef_)"
      ],
      "execution_count": 11,
      "outputs": [
        {
          "output_type": "stream",
          "text": [
            "[[ 8.54232795e-01  7.16090185e-01 -5.71183458e-01 -3.82356172e-08]]\n"
          ],
          "name": "stdout"
        }
      ]
    },
    {
      "cell_type": "code",
      "metadata": {
        "colab": {
          "base_uri": "https://localhost:8080/"
        },
        "id": "pyqC9SssvJlz",
        "outputId": "7a1f17fe-43c2-4167-dafe-6ca983233b0c"
      },
      "source": [
        "print(regression.intercept_)"
      ],
      "execution_count": 12,
      "outputs": [
        {
          "output_type": "stream",
          "text": [
            "[0.02967901]\n"
          ],
          "name": "stdout"
        }
      ]
    },
    {
      "cell_type": "code",
      "metadata": {
        "colab": {
          "base_uri": "https://localhost:8080/",
          "height": 768
        },
        "id": "aaXgrUdwvfWT",
        "outputId": "6162dc12-f26b-4fa5-c721-798509c443a6"
      },
      "source": [
        "prediction = regression.predict(x_test)\r\n",
        "dframe = pd.DataFrame({'Actual':y_test.flatten(), 'Predicted':prediction.flatten()})\r\n",
        "\r\n",
        "dframe.head(25)"
      ],
      "execution_count": 16,
      "outputs": [
        {
          "output_type": "execute_result",
          "data": {
            "text/html": [
              "<div>\n",
              "<style scoped>\n",
              "    .dataframe tbody tr th:only-of-type {\n",
              "        vertical-align: middle;\n",
              "    }\n",
              "\n",
              "    .dataframe tbody tr th {\n",
              "        vertical-align: top;\n",
              "    }\n",
              "\n",
              "    .dataframe thead th {\n",
              "        text-align: right;\n",
              "    }\n",
              "</style>\n",
              "<table border=\"1\" class=\"dataframe\">\n",
              "  <thead>\n",
              "    <tr style=\"text-align: right;\">\n",
              "      <th></th>\n",
              "      <th>Actual</th>\n",
              "      <th>Predicted</th>\n",
              "    </tr>\n",
              "  </thead>\n",
              "  <tbody>\n",
              "    <tr>\n",
              "      <th>0</th>\n",
              "      <td>30.090000</td>\n",
              "      <td>31.286019</td>\n",
              "    </tr>\n",
              "    <tr>\n",
              "      <th>1</th>\n",
              "      <td>258.000000</td>\n",
              "      <td>255.833139</td>\n",
              "    </tr>\n",
              "    <tr>\n",
              "      <th>2</th>\n",
              "      <td>204.990005</td>\n",
              "      <td>202.604123</td>\n",
              "    </tr>\n",
              "    <tr>\n",
              "      <th>3</th>\n",
              "      <td>17.459999</td>\n",
              "      <td>16.631611</td>\n",
              "    </tr>\n",
              "    <tr>\n",
              "      <th>4</th>\n",
              "      <td>263.820007</td>\n",
              "      <td>265.432417</td>\n",
              "    </tr>\n",
              "    <tr>\n",
              "      <th>5</th>\n",
              "      <td>34.099998</td>\n",
              "      <td>34.036534</td>\n",
              "    </tr>\n",
              "    <tr>\n",
              "      <th>6</th>\n",
              "      <td>28.980000</td>\n",
              "      <td>28.006774</td>\n",
              "    </tr>\n",
              "    <tr>\n",
              "      <th>7</th>\n",
              "      <td>35.000000</td>\n",
              "      <td>34.870565</td>\n",
              "    </tr>\n",
              "    <tr>\n",
              "      <th>8</th>\n",
              "      <td>28.490000</td>\n",
              "      <td>28.216008</td>\n",
              "    </tr>\n",
              "    <tr>\n",
              "      <th>9</th>\n",
              "      <td>246.720001</td>\n",
              "      <td>243.620346</td>\n",
              "    </tr>\n",
              "    <tr>\n",
              "      <th>10</th>\n",
              "      <td>206.419998</td>\n",
              "      <td>203.923467</td>\n",
              "    </tr>\n",
              "    <tr>\n",
              "      <th>11</th>\n",
              "      <td>139.339996</td>\n",
              "      <td>140.784830</td>\n",
              "    </tr>\n",
              "    <tr>\n",
              "      <th>12</th>\n",
              "      <td>198.690002</td>\n",
              "      <td>200.661122</td>\n",
              "    </tr>\n",
              "    <tr>\n",
              "      <th>13</th>\n",
              "      <td>183.770004</td>\n",
              "      <td>185.098406</td>\n",
              "    </tr>\n",
              "    <tr>\n",
              "      <th>14</th>\n",
              "      <td>219.610001</td>\n",
              "      <td>220.622040</td>\n",
              "    </tr>\n",
              "    <tr>\n",
              "      <th>15</th>\n",
              "      <td>266.149994</td>\n",
              "      <td>267.041959</td>\n",
              "    </tr>\n",
              "    <tr>\n",
              "      <th>16</th>\n",
              "      <td>43.930000</td>\n",
              "      <td>45.031831</td>\n",
              "    </tr>\n",
              "    <tr>\n",
              "      <th>17</th>\n",
              "      <td>36.000000</td>\n",
              "      <td>35.958933</td>\n",
              "    </tr>\n",
              "    <tr>\n",
              "      <th>18</th>\n",
              "      <td>219.460007</td>\n",
              "      <td>220.325817</td>\n",
              "    </tr>\n",
              "    <tr>\n",
              "      <th>19</th>\n",
              "      <td>222.600006</td>\n",
              "      <td>221.879049</td>\n",
              "    </tr>\n",
              "    <tr>\n",
              "      <th>20</th>\n",
              "      <td>22.750000</td>\n",
              "      <td>22.884091</td>\n",
              "    </tr>\n",
              "    <tr>\n",
              "      <th>21</th>\n",
              "      <td>121.379997</td>\n",
              "      <td>119.466495</td>\n",
              "    </tr>\n",
              "    <tr>\n",
              "      <th>22</th>\n",
              "      <td>203.100006</td>\n",
              "      <td>205.353774</td>\n",
              "    </tr>\n",
              "    <tr>\n",
              "      <th>23</th>\n",
              "      <td>27.709999</td>\n",
              "      <td>26.896808</td>\n",
              "    </tr>\n",
              "    <tr>\n",
              "      <th>24</th>\n",
              "      <td>35.330002</td>\n",
              "      <td>34.777585</td>\n",
              "    </tr>\n",
              "  </tbody>\n",
              "</table>\n",
              "</div>"
            ],
            "text/plain": [
              "        Actual   Predicted\n",
              "0    30.090000   31.286019\n",
              "1   258.000000  255.833139\n",
              "2   204.990005  202.604123\n",
              "3    17.459999   16.631611\n",
              "4   263.820007  265.432417\n",
              "5    34.099998   34.036534\n",
              "6    28.980000   28.006774\n",
              "7    35.000000   34.870565\n",
              "8    28.490000   28.216008\n",
              "9   246.720001  243.620346\n",
              "10  206.419998  203.923467\n",
              "11  139.339996  140.784830\n",
              "12  198.690002  200.661122\n",
              "13  183.770004  185.098406\n",
              "14  219.610001  220.622040\n",
              "15  266.149994  267.041959\n",
              "16   43.930000   45.031831\n",
              "17   36.000000   35.958933\n",
              "18  219.460007  220.325817\n",
              "19  222.600006  221.879049\n",
              "20   22.750000   22.884091\n",
              "21  121.379997  119.466495\n",
              "22  203.100006  205.353774\n",
              "23   27.709999   26.896808\n",
              "24   35.330002   34.777585"
            ]
          },
          "metadata": {
            "tags": []
          },
          "execution_count": 16
        }
      ]
    },
    {
      "cell_type": "code",
      "metadata": {
        "colab": {
          "base_uri": "https://localhost:8080/"
        },
        "id": "gnxUnuHmwRq-",
        "outputId": "1806b7b2-a931-4c59-d4eb-9621c22ddf29"
      },
      "source": [
        "print('Mean Absolute Error:', metrics.mean_absolute_error(y_test, prediction))\r\n",
        "print('Mean Squared Error:', metrics.mean_squared_error(y_test, prediction))\r\n",
        "print('Root Mean Squared Error:', math.sqrt(metrics.mean_squared_error(y_test, prediction)))"
      ],
      "execution_count": 18,
      "outputs": [
        {
          "output_type": "stream",
          "text": [
            "Mean Absolute Error: 1.0985812103639014\n",
            "Mean Squared Error: 2.646852288729205\n",
            "Root Mean Squared Error: 1.62691496050937\n"
          ],
          "name": "stdout"
        }
      ]
    },
    {
      "cell_type": "code",
      "metadata": {
        "colab": {
          "base_uri": "https://localhost:8080/",
          "height": 284
        },
        "id": "8ib5D0EHx68f",
        "outputId": "e1bd9522-a168-41c1-c939-afd67945696d"
      },
      "source": [
        "graph = dframe.head(20)\r\n",
        "graph.plot(kind='bar')"
      ],
      "execution_count": 24,
      "outputs": [
        {
          "output_type": "execute_result",
          "data": {
            "text/plain": [
              "<matplotlib.axes._subplots.AxesSubplot at 0x7f9c10c5eba8>"
            ]
          },
          "metadata": {
            "tags": []
          },
          "execution_count": 24
        },
        {
          "output_type": "display_data",
          "data": {
            "image/png": "[encoded data removed]",
            "text/plain": [
              "<Figure size 432x288 with 1 Axes>"
            ]
          },
          "metadata": {
            "tags": [],
            "needs_background": "light"
          }
        }
      ]
    }
  ]
}